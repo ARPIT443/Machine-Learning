{
  "nbformat": 4,
  "nbformat_minor": 0,
  "metadata": {
    "colab": {
      "name": "NLP  problem #2 ",
      "version": "0.3.2",
      "provenance": [],
      "include_colab_link": true
    },
    "kernelspec": {
      "name": "python3",
      "display_name": "Python 3"
    }
  },
  "cells": [
    {
      "cell_type": "markdown",
      "metadata": {
        "id": "view-in-github",
        "colab_type": "text"
      },
      "source": [
        "<a href=\"https://colab.research.google.com/github/ARPIT443/Machine-Learning/blob/master/NLP_problem_2.ipynb\" target=\"_parent\"><img src=\"https://colab.research.google.com/assets/colab-badge.svg\" alt=\"Open In Colab\"/></a>"
      ]
    },
    {
      "cell_type": "code",
      "metadata": {
        "id": "zJaey1p7iQBr",
        "colab_type": "code",
        "colab": {}
      },
      "source": [
        "import requests\n",
        "from bs4 import BeautifulSoup\n",
        "from textblob import TextBlob\n",
        "import matplotlib.pyplot as plt"
      ],
      "execution_count": 0,
      "outputs": []
    },
    {
      "cell_type": "code",
      "metadata": {
        "id": "_W6IsaLGwMgA",
        "colab_type": "code",
        "colab": {}
      },
      "source": [
        "html_data=requests.get('https://www.consumeraffairs.com/travel/makemytrip.html').text"
      ],
      "execution_count": 0,
      "outputs": []
    },
    {
      "cell_type": "code",
      "metadata": {
        "id": "fqP1sbUpwt8B",
        "colab_type": "code",
        "colab": {}
      },
      "source": [
        "soup=BeautifulSoup(html_data,'html5lib')"
      ],
      "execution_count": 0,
      "outputs": []
    },
    {
      "cell_type": "code",
      "metadata": {
        "id": "9pMkxUsVw7QL",
        "colab_type": "code",
        "colab": {}
      },
      "source": [
        "# Storing reviews in list\n",
        "n=[]\n",
        "for review in soup.find_all('p'):\n",
        "  x=review.get_text()\n",
        "  n.append(x)\n",
        "n  "
      ],
      "execution_count": 0,
      "outputs": []
    },
    {
      "cell_type": "code",
      "metadata": {
        "id": "KKDMzTccxFy_",
        "colab_type": "code",
        "colab": {
          "base_uri": "https://localhost:8080/",
          "height": 1000
        },
        "outputId": "75fe6c93-f80e-4632-e911-add492b47cfa"
      },
      "source": [
        "pos=0\n",
        "neg=0\n",
        "neu=0\n",
        "# Printing line by line\n",
        "for review in n:\n",
        "    #print(tweet)\n",
        "    #print(tweet.text)\n",
        "    analysis=TextBlob(review)   # Here textblob will apply NLP\n",
        "    #print(analysis.sentiment)\n",
        "    \n",
        "    # Noe checking polarity only\n",
        "    if analysis.sentiment.polarity > 0:\n",
        "        print('Positive')\n",
        "        pos=pos+1\n",
        "    elif analysis.sentiment.polarity == 0:\n",
        "        print('Neutral')\n",
        "        neu=neu+1\n",
        "    else :\n",
        "        print('Negative')\n",
        "        neg=neg+1\n",
        "  "
      ],
      "execution_count": 59,
      "outputs": [
        {
          "output_type": "stream",
          "text": [
            "Positive\n",
            "Positive\n",
            "Positive\n",
            "Positive\n",
            "Positive\n",
            "Neutral\n",
            "Neutral\n",
            "Positive\n",
            "Positive\n",
            "Neutral\n",
            "Neutral\n",
            "Positive\n",
            "Neutral\n",
            "Positive\n",
            "Positive\n",
            "Positive\n",
            "Neutral\n",
            "Positive\n",
            "Neutral\n",
            "Neutral\n",
            "Neutral\n",
            "Positive\n",
            "Neutral\n",
            "Neutral\n",
            "Positive\n",
            "Neutral\n",
            "Neutral\n",
            "Positive\n",
            "Neutral\n",
            "Positive\n",
            "Neutral\n",
            "Negative\n",
            "Neutral\n",
            "Neutral\n",
            "Negative\n",
            "Neutral\n",
            "Positive\n",
            "Neutral\n",
            "Negative\n",
            "Neutral\n",
            "Positive\n",
            "Negative\n",
            "Positive\n",
            "Positive\n",
            "Neutral\n",
            "Positive\n",
            "Neutral\n",
            "Neutral\n",
            "Negative\n",
            "Neutral\n",
            "Neutral\n",
            "Positive\n",
            "Neutral\n",
            "Neutral\n",
            "Negative\n",
            "Neutral\n",
            "Neutral\n",
            "Negative\n",
            "Neutral\n",
            "Neutral\n",
            "Positive\n",
            "Neutral\n",
            "Neutral\n",
            "Positive\n",
            "Neutral\n",
            "Neutral\n",
            "Positive\n",
            "Neutral\n",
            "Neutral\n",
            "Positive\n",
            "Neutral\n",
            "Neutral\n",
            "Positive\n",
            "Neutral\n",
            "Negative\n",
            "Negative\n",
            "Neutral\n",
            "Negative\n",
            "Neutral\n",
            "Neutral\n",
            "Negative\n",
            "Neutral\n",
            "Neutral\n",
            "Positive\n",
            "Neutral\n",
            "Neutral\n",
            "Negative\n",
            "Neutral\n",
            "Neutral\n",
            "Negative\n",
            "Neutral\n",
            "Neutral\n",
            "Negative\n",
            "Neutral\n",
            "Neutral\n",
            "Negative\n",
            "Neutral\n",
            "Neutral\n",
            "Positive\n",
            "Neutral\n",
            "Neutral\n",
            "Positive\n",
            "Neutral\n",
            "Neutral\n",
            "Negative\n",
            "Neutral\n",
            "Negative\n",
            "Neutral\n",
            "Negative\n",
            "Neutral\n",
            "Neutral\n",
            "Negative\n",
            "Neutral\n",
            "Negative\n",
            "Positive\n",
            "Positive\n",
            "Neutral\n",
            "Positive\n",
            "Positive\n",
            "Positive\n",
            "Positive\n",
            "Neutral\n",
            "Neutral\n",
            "Positive\n"
          ],
          "name": "stdout"
        }
      ]
    },
    {
      "cell_type": "code",
      "metadata": {
        "id": "owyyZ-oTzuCJ",
        "colab_type": "code",
        "colab": {
          "base_uri": "https://localhost:8080/",
          "height": 300
        },
        "outputId": "0a61c05d-3259-4a1a-ad4f-8975e4b26cf2"
      },
      "source": [
        "# Plotting graphs\n",
        "plt.xlabel('tags')\n",
        "plt.ylabel('polarity')\n",
        "plt.bar(['pos','neg','neu'],[pos,neg,neu])"
      ],
      "execution_count": 63,
      "outputs": [
        {
          "output_type": "execute_result",
          "data": {
            "text/plain": [
              "<BarContainer object of 3 artists>"
            ]
          },
          "metadata": {
            "tags": []
          },
          "execution_count": 63
        },
        {
          "output_type": "display_data",
          "data": {
            "image/png": "[encoded data removed]",
            "text/plain": [
              "<Figure size 432x288 with 1 Axes>"
            ]
          },
          "metadata": {
            "tags": []
          }
        }
      ]
    }
  ]
}