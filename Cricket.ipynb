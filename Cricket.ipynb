{
  "nbformat": 4,
  "nbformat_minor": 0,
  "metadata": {
    "colab": {
      "name": "Cricket",
      "version": "0.3.2",
      "provenance": [],
      "collapsed_sections": [],
      "include_colab_link": true
    },
    "kernelspec": {
      "name": "python3",
      "display_name": "Python 3"
    }
  },
  "cells": [
    {
      "cell_type": "markdown",
      "metadata": {
        "id": "view-in-github",
        "colab_type": "text"
      },
      "source": [
        "<a href=\"https://colab.research.google.com/github/ARPIT443/Machine-Learning/blob/master/Cricket.ipynb\" target=\"_parent\"><img src=\"https://colab.research.google.com/assets/colab-badge.svg\" alt=\"Open In Colab\"/></a>"
      ]
    },
    {
      "cell_type": "code",
      "metadata": {
        "id": "DjBNEtJQ4mDf",
        "colab_type": "code",
        "colab": {}
      },
      "source": [
        "import requests\n",
        "from bs4 import BeautifulSoup\n",
        "import pandas as pd"
      ],
      "execution_count": 0,
      "outputs": []
    },
    {
      "cell_type": "code",
      "metadata": {
        "id": "vIPzVCS744XZ",
        "colab_type": "code",
        "colab": {}
      },
      "source": [
        "html_data=requests.get('https://sports.ndtv.com/cricket/players/857-rohit-sharma-playerprofile/stats').text"
      ],
      "execution_count": 0,
      "outputs": []
    },
    {
      "cell_type": "code",
      "metadata": {
        "id": "qOgfbUXM4_Eq",
        "colab_type": "code",
        "colab": {}
      },
      "source": [
        "soup=BeautifulSoup(html_data,'html5lib')\n",
        " "
      ],
      "execution_count": 0,
      "outputs": []
    },
    {
      "cell_type": "code",
      "metadata": {
        "id": "WFUfHpic5PI2",
        "colab_type": "code",
        "outputId": "226e9289-fd0c-439c-e1a7-e3960d310a8b",
        "colab": {
          "base_uri": "https://localhost:8080/",
          "height": 1000
        }
      },
      "source": [
        "data=soup.find_all('div',{\"data-id\":\"2\"})\n",
        "                                                                                                                "
      ],
      "execution_count": 0,
      "outputs": [
        {
          "output_type": "execute_result",
          "data": {
            "text/plain": [
              "[<div class=\"mod-body lastfive\" data-id=\"2\">\n",
              " <div class=\"score-board batting\">\n",
              " </div>\n",
              " <table border=\"0\" cellpadding=\"0\" cellspacing=\"0\" width=\"100%\">\n",
              " <tbody>\n",
              " <tr>\n",
              " <th scope=\"col\">\n",
              " Batting\n",
              " </th>\n",
              " <th scope=\"col\">\n",
              " Bowling\n",
              " </th>\n",
              " <th scope=\"col\">\n",
              " Opposition\n",
              " </th>\n",
              " <th scope=\"col\">\n",
              " Match Date\n",
              " </th>\n",
              " </tr>\n",
              "  <tr>\n",
              " <td>\n",
              " 104(92)  \n",
              " </td>\n",
              " <td>\n",
              "  - \n",
              " </td>\n",
              " <td>\n",
              " <span class=\"sm-cap\">v</span> Bangladesh\n",
              " </td>\n",
              " <td>\n",
              " Jul 02, 2019\n",
              " </td>\n",
              " </tr>\n",
              "  <tr>\n",
              " <td>\n",
              " 102(109)  \n",
              " </td>\n",
              " <td>\n",
              "  - \n",
              " </td>\n",
              " <td>\n",
              " <span class=\"sm-cap\">v</span> England\n",
              " </td>\n",
              " <td>\n",
              " Jun 30, 2019\n",
              " </td>\n",
              " </tr>\n",
              "  <tr>\n",
              " <td>\n",
              " 18(23)  \n",
              " </td>\n",
              " <td>\n",
              "  - \n",
              " </td>\n",
              " <td>\n",
              " <span class=\"sm-cap\">v</span> West Indies\n",
              " </td>\n",
              " <td>\n",
              " Jun 27, 2019\n",
              " </td>\n",
              " </tr>\n",
              "  <tr>\n",
              " <td>\n",
              " 1(10)  \n",
              " </td>\n",
              " <td>\n",
              "  - \n",
              " </td>\n",
              " <td>\n",
              " <span class=\"sm-cap\">v</span> Afghanistan\n",
              " </td>\n",
              " <td>\n",
              " Jun 22, 2019\n",
              " </td>\n",
              " </tr>\n",
              "  <tr>\n",
              " <td>\n",
              " 140(113)  \n",
              " </td>\n",
              " <td>\n",
              "  - \n",
              " </td>\n",
              " <td>\n",
              " <span class=\"sm-cap\">v</span> Pakistan\n",
              " </td>\n",
              " <td>\n",
              " Jun 16, 2019\n",
              " </td>\n",
              " </tr>\n",
              " \n",
              " </tbody>\n",
              " </table>\n",
              " </div>]"
            ]
          },
          "metadata": {
            "tags": []
          },
          "execution_count": 167
        }
      ]
    },
    {
      "cell_type": "code",
      "metadata": {
        "id": "WSOgX2M-56jE",
        "colab_type": "code",
        "colab": {}
      },
      "source": [
        "batting=[]\n",
        "for i in soup.find_all('div',{\"data-id\":\"2\"},'tr'):\n",
        "  for j in i.find_all('td'):\n",
        "     batting.append(j.get_text())      "
      ],
      "execution_count": 0,
      "outputs": []
    },
    {
      "cell_type": "code",
      "metadata": {
        "id": "ZhJFIz7u583W",
        "colab_type": "code",
        "outputId": "304dc4ae-56a9-41a2-af99-5e9dab782d27",
        "colab": {
          "base_uri": "https://localhost:8080/",
          "height": 353
        }
      },
      "source": [
        "batting\n"
      ],
      "execution_count": 0,
      "outputs": [
        {
          "output_type": "execute_result",
          "data": {
            "text/plain": [
              "['\\n104(92)  \\n',\n",
              " '\\n - \\n',\n",
              " '\\nv Bangladesh\\n',\n",
              " '\\nJul 02, 2019\\n',\n",
              " '\\n102(109)  \\n',\n",
              " '\\n - \\n',\n",
              " '\\nv England\\n',\n",
              " '\\nJun 30, 2019\\n',\n",
              " '\\n18(23)  \\n',\n",
              " '\\n - \\n',\n",
              " '\\nv West Indies\\n',\n",
              " '\\nJun 27, 2019\\n',\n",
              " '\\n1(10)  \\n',\n",
              " '\\n - \\n',\n",
              " '\\nv Afghanistan\\n',\n",
              " '\\nJun 22, 2019\\n',\n",
              " '\\n140(113)  \\n',\n",
              " '\\n - \\n',\n",
              " '\\nv Pakistan\\n',\n",
              " '\\nJun 16, 2019\\n']"
            ]
          },
          "metadata": {
            "tags": []
          },
          "execution_count": 169
        }
      ]
    },
    {
      "cell_type": "code",
      "metadata": {
        "id": "zCBzaqhPdElP",
        "colab_type": "code",
        "colab": {}
      },
      "source": [
        "\n",
        "y=[]\n",
        "for i in batting:\n",
        "  x=i.replace('\\n','') \n",
        "  y.append(x)            \n",
        "  "
      ],
      "execution_count": 0,
      "outputs": []
    },
    {
      "cell_type": "code",
      "metadata": {
        "id": "UXIKwv9ai4sz",
        "colab_type": "code",
        "outputId": "f963f1db-e77e-4910-a064-6e908fc7b996",
        "colab": {
          "base_uri": "https://localhost:8080/",
          "height": 353
        }
      },
      "source": [
        "y"
      ],
      "execution_count": 0,
      "outputs": [
        {
          "output_type": "execute_result",
          "data": {
            "text/plain": [
              "['104(92)  ',\n",
              " ' - ',\n",
              " 'v Bangladesh',\n",
              " 'Jul 02, 2019',\n",
              " '102(109)  ',\n",
              " ' - ',\n",
              " 'v England',\n",
              " 'Jun 30, 2019',\n",
              " '18(23)  ',\n",
              " ' - ',\n",
              " 'v West Indies',\n",
              " 'Jun 27, 2019',\n",
              " '1(10)  ',\n",
              " ' - ',\n",
              " 'v Afghanistan',\n",
              " 'Jun 22, 2019',\n",
              " '140(113)  ',\n",
              " ' - ',\n",
              " 'v Pakistan',\n",
              " 'Jun 16, 2019']"
            ]
          },
          "metadata": {
            "tags": []
          },
          "execution_count": 171
        }
      ]
    },
    {
      "cell_type": "code",
      "metadata": {
        "id": "6sft7UDnuEO-",
        "colab_type": "code",
        "colab": {}
      },
      "source": [
        "x1=y[:4]\n",
        "x2=y[4:8]\n",
        "x3=y[8:12]\n",
        "x4=y[12:16]\n",
        "x5=y[16:20]"
      ],
      "execution_count": 0,
      "outputs": []
    },
    {
      "cell_type": "code",
      "metadata": {
        "id": "oizZqspUuQi_",
        "colab_type": "code",
        "colab": {}
      },
      "source": [
        "cols=['Batting','Bowling','Team','Date']"
      ],
      "execution_count": 0,
      "outputs": []
    },
    {
      "cell_type": "code",
      "metadata": {
        "id": "XYo55h6tuYLK",
        "colab_type": "code",
        "colab": {}
      },
      "source": [
        "Rohit=pd.DataFrame([x1,x2,x3,x4,x5],columns=cols)"
      ],
      "execution_count": 0,
      "outputs": []
    },
    {
      "cell_type": "code",
      "metadata": {
        "id": "J0BlIo5yunty",
        "colab_type": "code",
        "outputId": "a7ab3099-f95d-4ae1-b6f5-50ba77987e3b",
        "colab": {
          "base_uri": "https://localhost:8080/",
          "height": 195
        }
      },
      "source": [
        "Rohit"
      ],
      "execution_count": 0,
      "outputs": [
        {
          "output_type": "execute_result",
          "data": {
            "text/html": [
              "<div>\n",
              "<style scoped>\n",
              "    .dataframe tbody tr th:only-of-type {\n",
              "        vertical-align: middle;\n",
              "    }\n",
              "\n",
              "    .dataframe tbody tr th {\n",
              "        vertical-align: top;\n",
              "    }\n",
              "\n",
              "    .dataframe thead th {\n",
              "        text-align: right;\n",
              "    }\n",
              "</style>\n",
              "<table border=\"1\" class=\"dataframe\">\n",
              "  <thead>\n",
              "    <tr style=\"text-align: right;\">\n",
              "      <th></th>\n",
              "      <th>Batting</th>\n",
              "      <th>Bowling</th>\n",
              "      <th>Team</th>\n",
              "      <th>Date</th>\n",
              "    </tr>\n",
              "  </thead>\n",
              "  <tbody>\n",
              "    <tr>\n",
              "      <th>0</th>\n",
              "      <td>104(92)</td>\n",
              "      <td>-</td>\n",
              "      <td>v Bangladesh</td>\n",
              "      <td>Jul 02, 2019</td>\n",
              "    </tr>\n",
              "    <tr>\n",
              "      <th>1</th>\n",
              "      <td>102(109)</td>\n",
              "      <td>-</td>\n",
              "      <td>v England</td>\n",
              "      <td>Jun 30, 2019</td>\n",
              "    </tr>\n",
              "    <tr>\n",
              "      <th>2</th>\n",
              "      <td>18(23)</td>\n",
              "      <td>-</td>\n",
              "      <td>v West Indies</td>\n",
              "      <td>Jun 27, 2019</td>\n",
              "    </tr>\n",
              "    <tr>\n",
              "      <th>3</th>\n",
              "      <td>1(10)</td>\n",
              "      <td>-</td>\n",
              "      <td>v Afghanistan</td>\n",
              "      <td>Jun 22, 2019</td>\n",
              "    </tr>\n",
              "    <tr>\n",
              "      <th>4</th>\n",
              "      <td>140(113)</td>\n",
              "      <td>-</td>\n",
              "      <td>v Pakistan</td>\n",
              "      <td>Jun 16, 2019</td>\n",
              "    </tr>\n",
              "  </tbody>\n",
              "</table>\n",
              "</div>"
            ],
            "text/plain": [
              "      Batting Bowling           Team          Date\n",
              "0   104(92)        -    v Bangladesh  Jul 02, 2019\n",
              "1  102(109)        -       v England  Jun 30, 2019\n",
              "2    18(23)        -   v West Indies  Jun 27, 2019\n",
              "3     1(10)        -   v Afghanistan  Jun 22, 2019\n",
              "4  140(113)        -      v Pakistan  Jun 16, 2019"
            ]
          },
          "metadata": {
            "tags": []
          },
          "execution_count": 175
        }
      ]
    },
    {
      "cell_type": "code",
      "metadata": {
        "id": "nO_8fQh9u6tM",
        "colab_type": "code",
        "colab": {}
      },
      "source": [
        "x=Rohit.iloc[:,0].values"
      ],
      "execution_count": 0,
      "outputs": []
    },
    {
      "cell_type": "code",
      "metadata": {
        "id": "oEy1DFj_weL2",
        "colab_type": "code",
        "outputId": "658c7696-127c-4229-d03f-b6567e10eb9c",
        "colab": {
          "base_uri": "https://localhost:8080/",
          "height": 34
        }
      },
      "source": [
        "x[0].split('(')[0]"
      ],
      "execution_count": 0,
      "outputs": [
        {
          "output_type": "execute_result",
          "data": {
            "text/plain": [
              "'104'"
            ]
          },
          "metadata": {
            "tags": []
          },
          "execution_count": 177
        }
      ]
    },
    {
      "cell_type": "code",
      "metadata": {
        "id": "F9pIKcWNxKdi",
        "colab_type": "code",
        "colab": {}
      },
      "source": [
        "Run=[]\n",
        "for i in x:\n",
        "  Run.append(i.split('(')[0])"
      ],
      "execution_count": 0,
      "outputs": []
    },
    {
      "cell_type": "code",
      "metadata": {
        "id": "nty3DlzWxdlP",
        "colab_type": "code",
        "outputId": "b74e5dd6-aa5d-4562-dbb9-4704d2df4b8d",
        "colab": {
          "base_uri": "https://localhost:8080/",
          "height": 34
        }
      },
      "source": [
        "Run"
      ],
      "execution_count": 0,
      "outputs": [
        {
          "output_type": "execute_result",
          "data": {
            "text/plain": [
              "['104', '102', '18', '1', '140']"
            ]
          },
          "metadata": {
            "tags": []
          },
          "execution_count": 179
        }
      ]
    },
    {
      "cell_type": "code",
      "metadata": {
        "id": "nUzg5nHix-cp",
        "colab_type": "code",
        "colab": {}
      },
      "source": [
        "Rohit['Run']=Run"
      ],
      "execution_count": 0,
      "outputs": []
    },
    {
      "cell_type": "code",
      "metadata": {
        "id": "jEbFBWyWyEF_",
        "colab_type": "code",
        "outputId": "581a206f-2815-4a25-e29f-ab412ce6ba5b",
        "colab": {
          "base_uri": "https://localhost:8080/",
          "height": 195
        }
      },
      "source": [
        "Rohit"
      ],
      "execution_count": 0,
      "outputs": [
        {
          "output_type": "execute_result",
          "data": {
            "text/html": [
              "<div>\n",
              "<style scoped>\n",
              "    .dataframe tbody tr th:only-of-type {\n",
              "        vertical-align: middle;\n",
              "    }\n",
              "\n",
              "    .dataframe tbody tr th {\n",
              "        vertical-align: top;\n",
              "    }\n",
              "\n",
              "    .dataframe thead th {\n",
              "        text-align: right;\n",
              "    }\n",
              "</style>\n",
              "<table border=\"1\" class=\"dataframe\">\n",
              "  <thead>\n",
              "    <tr style=\"text-align: right;\">\n",
              "      <th></th>\n",
              "      <th>Batting</th>\n",
              "      <th>Bowling</th>\n",
              "      <th>Team</th>\n",
              "      <th>Date</th>\n",
              "      <th>Run</th>\n",
              "    </tr>\n",
              "  </thead>\n",
              "  <tbody>\n",
              "    <tr>\n",
              "      <th>0</th>\n",
              "      <td>104(92)</td>\n",
              "      <td>-</td>\n",
              "      <td>v Bangladesh</td>\n",
              "      <td>Jul 02, 2019</td>\n",
              "      <td>104</td>\n",
              "    </tr>\n",
              "    <tr>\n",
              "      <th>1</th>\n",
              "      <td>102(109)</td>\n",
              "      <td>-</td>\n",
              "      <td>v England</td>\n",
              "      <td>Jun 30, 2019</td>\n",
              "      <td>102</td>\n",
              "    </tr>\n",
              "    <tr>\n",
              "      <th>2</th>\n",
              "      <td>18(23)</td>\n",
              "      <td>-</td>\n",
              "      <td>v West Indies</td>\n",
              "      <td>Jun 27, 2019</td>\n",
              "      <td>18</td>\n",
              "    </tr>\n",
              "    <tr>\n",
              "      <th>3</th>\n",
              "      <td>1(10)</td>\n",
              "      <td>-</td>\n",
              "      <td>v Afghanistan</td>\n",
              "      <td>Jun 22, 2019</td>\n",
              "      <td>1</td>\n",
              "    </tr>\n",
              "    <tr>\n",
              "      <th>4</th>\n",
              "      <td>140(113)</td>\n",
              "      <td>-</td>\n",
              "      <td>v Pakistan</td>\n",
              "      <td>Jun 16, 2019</td>\n",
              "      <td>140</td>\n",
              "    </tr>\n",
              "  </tbody>\n",
              "</table>\n",
              "</div>"
            ],
            "text/plain": [
              "      Batting Bowling           Team          Date  Run\n",
              "0   104(92)        -    v Bangladesh  Jul 02, 2019  104\n",
              "1  102(109)        -       v England  Jun 30, 2019  102\n",
              "2    18(23)        -   v West Indies  Jun 27, 2019   18\n",
              "3     1(10)        -   v Afghanistan  Jun 22, 2019    1\n",
              "4  140(113)        -      v Pakistan  Jun 16, 2019  140"
            ]
          },
          "metadata": {
            "tags": []
          },
          "execution_count": 181
        }
      ]
    },
    {
      "cell_type": "code",
      "metadata": {
        "id": "yGgP3pfOyFd1",
        "colab_type": "code",
        "outputId": "758b68b2-2403-436a-b137-c3d3d53ef23c",
        "colab": {
          "base_uri": "https://localhost:8080/",
          "height": 34
        }
      },
      "source": [
        "x[0].split('(')[1].replace(')','')"
      ],
      "execution_count": 0,
      "outputs": [
        {
          "output_type": "execute_result",
          "data": {
            "text/plain": [
              "'92  '"
            ]
          },
          "metadata": {
            "tags": []
          },
          "execution_count": 182
        }
      ]
    },
    {
      "cell_type": "code",
      "metadata": {
        "id": "jwmdl74iyT5d",
        "colab_type": "code",
        "colab": {}
      },
      "source": [
        "Bowls=[]\n",
        "for i in x:\n",
        "  Bowls.append(i.split('(')[1].replace(')',''))"
      ],
      "execution_count": 0,
      "outputs": []
    },
    {
      "cell_type": "code",
      "metadata": {
        "id": "JE9tgi4RyjrC",
        "colab_type": "code",
        "outputId": "b2f2622f-10f8-4c7a-84f6-6022de8d2b76",
        "colab": {
          "base_uri": "https://localhost:8080/",
          "height": 34
        }
      },
      "source": [
        "Bowls"
      ],
      "execution_count": 0,
      "outputs": [
        {
          "output_type": "execute_result",
          "data": {
            "text/plain": [
              "['92  ', '109  ', '23  ', '10  ', '113  ']"
            ]
          },
          "metadata": {
            "tags": []
          },
          "execution_count": 184
        }
      ]
    },
    {
      "cell_type": "code",
      "metadata": {
        "id": "lJthbCAZykfa",
        "colab_type": "code",
        "colab": {}
      },
      "source": [
        "Rohit['Bowls']=Bowls"
      ],
      "execution_count": 0,
      "outputs": []
    },
    {
      "cell_type": "code",
      "metadata": {
        "id": "LV5tyZI6ywbh",
        "colab_type": "code",
        "outputId": "fe50cdfd-d951-4e60-eb50-618f35650a7b",
        "colab": {
          "base_uri": "https://localhost:8080/",
          "height": 195
        }
      },
      "source": [
        "Rohit"
      ],
      "execution_count": 0,
      "outputs": [
        {
          "output_type": "execute_result",
          "data": {
            "text/html": [
              "<div>\n",
              "<style scoped>\n",
              "    .dataframe tbody tr th:only-of-type {\n",
              "        vertical-align: middle;\n",
              "    }\n",
              "\n",
              "    .dataframe tbody tr th {\n",
              "        vertical-align: top;\n",
              "    }\n",
              "\n",
              "    .dataframe thead th {\n",
              "        text-align: right;\n",
              "    }\n",
              "</style>\n",
              "<table border=\"1\" class=\"dataframe\">\n",
              "  <thead>\n",
              "    <tr style=\"text-align: right;\">\n",
              "      <th></th>\n",
              "      <th>Batting</th>\n",
              "      <th>Bowling</th>\n",
              "      <th>Team</th>\n",
              "      <th>Date</th>\n",
              "      <th>Run</th>\n",
              "      <th>Bowls</th>\n",
              "    </tr>\n",
              "  </thead>\n",
              "  <tbody>\n",
              "    <tr>\n",
              "      <th>0</th>\n",
              "      <td>104(92)</td>\n",
              "      <td>-</td>\n",
              "      <td>v Bangladesh</td>\n",
              "      <td>Jul 02, 2019</td>\n",
              "      <td>104</td>\n",
              "      <td>92</td>\n",
              "    </tr>\n",
              "    <tr>\n",
              "      <th>1</th>\n",
              "      <td>102(109)</td>\n",
              "      <td>-</td>\n",
              "      <td>v England</td>\n",
              "      <td>Jun 30, 2019</td>\n",
              "      <td>102</td>\n",
              "      <td>109</td>\n",
              "    </tr>\n",
              "    <tr>\n",
              "      <th>2</th>\n",
              "      <td>18(23)</td>\n",
              "      <td>-</td>\n",
              "      <td>v West Indies</td>\n",
              "      <td>Jun 27, 2019</td>\n",
              "      <td>18</td>\n",
              "      <td>23</td>\n",
              "    </tr>\n",
              "    <tr>\n",
              "      <th>3</th>\n",
              "      <td>1(10)</td>\n",
              "      <td>-</td>\n",
              "      <td>v Afghanistan</td>\n",
              "      <td>Jun 22, 2019</td>\n",
              "      <td>1</td>\n",
              "      <td>10</td>\n",
              "    </tr>\n",
              "    <tr>\n",
              "      <th>4</th>\n",
              "      <td>140(113)</td>\n",
              "      <td>-</td>\n",
              "      <td>v Pakistan</td>\n",
              "      <td>Jun 16, 2019</td>\n",
              "      <td>140</td>\n",
              "      <td>113</td>\n",
              "    </tr>\n",
              "  </tbody>\n",
              "</table>\n",
              "</div>"
            ],
            "text/plain": [
              "      Batting Bowling           Team          Date  Run  Bowls\n",
              "0   104(92)        -    v Bangladesh  Jul 02, 2019  104   92  \n",
              "1  102(109)        -       v England  Jun 30, 2019  102  109  \n",
              "2    18(23)        -   v West Indies  Jun 27, 2019   18   23  \n",
              "3     1(10)        -   v Afghanistan  Jun 22, 2019    1   10  \n",
              "4  140(113)        -      v Pakistan  Jun 16, 2019  140  113  "
            ]
          },
          "metadata": {
            "tags": []
          },
          "execution_count": 186
        }
      ]
    },
    {
      "cell_type": "markdown",
      "metadata": {
        "id": "8NAS-v6jy1-R",
        "colab_type": "text"
      },
      "source": [
        "# Apply Reggression"
      ]
    },
    {
      "cell_type": "code",
      "metadata": {
        "id": "YyB1prKLyxVT",
        "colab_type": "code",
        "colab": {}
      },
      "source": [
        "run=Rohit.iloc[:,4:5].values"
      ],
      "execution_count": 0,
      "outputs": []
    },
    {
      "cell_type": "code",
      "metadata": {
        "id": "JATacneozHJA",
        "colab_type": "code",
        "colab": {}
      },
      "source": [
        "bowl=Rohit.iloc[:,5:].values"
      ],
      "execution_count": 0,
      "outputs": []
    },
    {
      "cell_type": "code",
      "metadata": {
        "id": "S3HHWPEjzM7M",
        "colab_type": "code",
        "colab": {}
      },
      "source": [
        "run=run.astype('int')"
      ],
      "execution_count": 0,
      "outputs": []
    },
    {
      "cell_type": "code",
      "metadata": {
        "id": "mZlcIx0nzOLl",
        "colab_type": "code",
        "outputId": "47e54cfd-8570-4dab-d595-aa7f2cb562ec",
        "colab": {
          "base_uri": "https://localhost:8080/",
          "height": 101
        }
      },
      "source": [
        "run"
      ],
      "execution_count": 0,
      "outputs": [
        {
          "output_type": "execute_result",
          "data": {
            "text/plain": [
              "array([[104],\n",
              "       [102],\n",
              "       [ 18],\n",
              "       [  1],\n",
              "       [140]])"
            ]
          },
          "metadata": {
            "tags": []
          },
          "execution_count": 190
        }
      ]
    },
    {
      "cell_type": "code",
      "metadata": {
        "id": "HFiByx981zv1",
        "colab_type": "code",
        "colab": {}
      },
      "source": [
        "bowl=bowl.astype('int')"
      ],
      "execution_count": 0,
      "outputs": []
    },
    {
      "cell_type": "code",
      "metadata": {
        "id": "941dA8Ab138U",
        "colab_type": "code",
        "outputId": "fe22d672-e75e-4735-ac72-4c7aa20d2a5a",
        "colab": {
          "base_uri": "https://localhost:8080/",
          "height": 101
        }
      },
      "source": [
        "bowl"
      ],
      "execution_count": 0,
      "outputs": [
        {
          "output_type": "execute_result",
          "data": {
            "text/plain": [
              "array([[ 92],\n",
              "       [109],\n",
              "       [ 23],\n",
              "       [ 10],\n",
              "       [113]])"
            ]
          },
          "metadata": {
            "tags": []
          },
          "execution_count": 192
        }
      ]
    },
    {
      "cell_type": "code",
      "metadata": {
        "id": "bwB24m1szOz2",
        "colab_type": "code",
        "colab": {}
      },
      "source": [
        "from sklearn.linear_model import LinearRegression\n",
        "from sklearn.preprocessing import PolynomialFeatures\n",
        "import matplotlib.pyplot as plt"
      ],
      "execution_count": 0,
      "outputs": []
    },
    {
      "cell_type": "code",
      "metadata": {
        "id": "KSVZNOULzobS",
        "colab_type": "code",
        "colab": {}
      },
      "source": [
        "# Reggression\n",
        "regr1=LinearRegression()"
      ],
      "execution_count": 0,
      "outputs": []
    },
    {
      "cell_type": "code",
      "metadata": {
        "id": "FIlprrJ_zvu_",
        "colab_type": "code",
        "colab": {}
      },
      "source": [
        "trained1=regr1.fit(bowl,run)"
      ],
      "execution_count": 0,
      "outputs": []
    },
    {
      "cell_type": "code",
      "metadata": {
        "id": "MOpaNZ9Uz0vh",
        "colab_type": "code",
        "outputId": "3400c654-5507-41a4-c1d0-901f4f2d35c3",
        "colab": {
          "base_uri": "https://localhost:8080/",
          "height": 300
        }
      },
      "source": [
        "plt.xlabel('Bowl')\n",
        "plt.ylabel('Runs')\n",
        "plt.scatter(bowl,run,label='Actual ')\n",
        "plt.plot(bowl,trained1.predict(bowl),label='Predicted score')\n",
        "plt.legend()"
      ],
      "execution_count": 0,
      "outputs": [
        {
          "output_type": "execute_result",
          "data": {
            "text/plain": [
              "<matplotlib.legend.Legend at 0x7f2f4c0d7d68>"
            ]
          },
          "metadata": {
            "tags": []
          },
          "execution_count": 217
        },
        {
          "output_type": "display_data",
          "data": {
            "image/png": "[encoded data removed]",
            "text/plain": [
              "<Figure size 432x288 with 1 Axes>"
            ]
          },
          "metadata": {
            "tags": []
          }
        }
      ]
    },
    {
      "cell_type": "code",
      "metadata": {
        "id": "yLgpWAgY1Rwh",
        "colab_type": "code",
        "colab": {}
      },
      "source": [
        "# NOw applying polynomial regre\n",
        "poly=PolynomialFeatures(degree=15)"
      ],
      "execution_count": 0,
      "outputs": []
    },
    {
      "cell_type": "code",
      "metadata": {
        "id": "05SgkWOk2LQs",
        "colab_type": "code",
        "colab": {}
      },
      "source": [
        "new_bowl=poly.fit_transform(bowl)"
      ],
      "execution_count": 0,
      "outputs": []
    },
    {
      "cell_type": "code",
      "metadata": {
        "id": "uHb3tmK12haQ",
        "colab_type": "code",
        "outputId": "82c28080-205d-40d8-dd62-d9ac67f01ac9",
        "colab": {
          "base_uri": "https://localhost:8080/",
          "height": 353
        }
      },
      "source": [
        "new_bowl"
      ],
      "execution_count": 0,
      "outputs": [
        {
          "output_type": "execute_result",
          "data": {
            "text/plain": [
              "array([[1.00000000e+00, 9.20000000e+01, 8.46400000e+03, 7.78688000e+05,\n",
              "        7.16392960e+07, 6.59081523e+09, 6.06355001e+11, 5.57846601e+13,\n",
              "        5.13218873e+15, 4.72161363e+17, 4.34388454e+19, 3.99637378e+21,\n",
              "        3.67666388e+23, 3.38253077e+25, 3.11192831e+27, 2.86297404e+29],\n",
              "       [1.00000000e+00, 1.09000000e+02, 1.18810000e+04, 1.29502900e+06,\n",
              "        1.41158161e+08, 1.53862395e+10, 1.67710011e+12, 1.82803912e+14,\n",
              "        1.99256264e+16, 2.17189328e+18, 2.36736367e+20, 2.58042641e+22,\n",
              "        2.81266478e+24, 3.06580461e+26, 3.34172703e+28, 3.64248246e+30],\n",
              "       [1.00000000e+00, 2.30000000e+01, 5.29000000e+02, 1.21670000e+04,\n",
              "        2.79841000e+05, 6.43634300e+06, 1.48035889e+08, 3.40482545e+09,\n",
              "        7.83109853e+10, 1.80115266e+12, 4.14265112e+13, 9.52809758e+14,\n",
              "        2.19146244e+16, 5.04036362e+17, 1.15928363e+19, 2.66635235e+20],\n",
              "       [1.00000000e+00, 1.00000000e+01, 1.00000000e+02, 1.00000000e+03,\n",
              "        1.00000000e+04, 1.00000000e+05, 1.00000000e+06, 1.00000000e+07,\n",
              "        1.00000000e+08, 1.00000000e+09, 1.00000000e+10, 1.00000000e+11,\n",
              "        1.00000000e+12, 1.00000000e+13, 1.00000000e+14, 1.00000000e+15],\n",
              "       [1.00000000e+00, 1.13000000e+02, 1.27690000e+04, 1.44289700e+06,\n",
              "        1.63047361e+08, 1.84243518e+10, 2.08195175e+12, 2.35260548e+14,\n",
              "        2.65844419e+16, 3.00404194e+18, 3.39456739e+20, 3.83586115e+22,\n",
              "        4.33452310e+24, 4.89801110e+26, 5.53475255e+28, 6.25427038e+30]])"
            ]
          },
          "metadata": {
            "tags": []
          },
          "execution_count": 220
        }
      ]
    },
    {
      "cell_type": "code",
      "metadata": {
        "id": "HuBs9cyw2ohd",
        "colab_type": "code",
        "colab": {}
      },
      "source": [
        "trained2=regr1.fit(new_bowl,run)"
      ],
      "execution_count": 0,
      "outputs": []
    },
    {
      "cell_type": "code",
      "metadata": {
        "id": "wiyqd9O-2Qbk",
        "colab_type": "code",
        "outputId": "27643884-95ad-4383-d962-b83b630d4096",
        "colab": {
          "base_uri": "https://localhost:8080/",
          "height": 300
        }
      },
      "source": [
        "plt.xlabel('Bowl')\n",
        "plt.ylabel('Runs')\n",
        "plt.scatter(bowl,run,label='Actual ')\n",
        "plt.plot(bowl,trained2.predict(new_bowl),label='Predicted score')\n",
        "plt.legend()"
      ],
      "execution_count": 0,
      "outputs": [
        {
          "output_type": "execute_result",
          "data": {
            "text/plain": [
              "<matplotlib.legend.Legend at 0x7f2f4bf74c50>"
            ]
          },
          "metadata": {
            "tags": []
          },
          "execution_count": 225
        },
        {
          "output_type": "display_data",
          "data": {
            "image/png": "[encoded data removed]",
            "text/plain": [
              "<Figure size 432x288 with 1 Axes>"
            ]
          },
          "metadata": {
            "tags": []
          }
        }
      ]
    },
    {
      "cell_type": "code",
      "metadata": {
        "id": "mS90O2cj3OQL",
        "colab_type": "code",
        "colab": {}
      },
      "source": [
        ""
      ],
      "execution_count": 0,
      "outputs": []
    },
    {
      "cell_type": "code",
      "metadata": {
        "id": "ZpFpPlzQz9XA",
        "colab_type": "code",
        "colab": {}
      },
      "source": [
        ""
      ],
      "execution_count": 0,
      "outputs": []
    }
  ]
}